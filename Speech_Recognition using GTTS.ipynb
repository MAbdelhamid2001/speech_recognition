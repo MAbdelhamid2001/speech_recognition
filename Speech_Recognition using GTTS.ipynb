{
 "cells": [
  {
   "cell_type": "code",
   "execution_count": 1,
   "id": "3656ba9d",
   "metadata": {},
   "outputs": [],
   "source": [
    "from gtts import gTTS "
   ]
  },
  {
   "cell_type": "code",
   "execution_count": 2,
   "id": "33a6df1a",
   "metadata": {},
   "outputs": [],
   "source": [
    "import os"
   ]
  },
  {
   "cell_type": "code",
   "execution_count": 3,
   "id": "c0a2513f",
   "metadata": {},
   "outputs": [],
   "source": [
    "text=\"welcome mohamed I'm very intersted in machine learning and AI\"\n"
   ]
  },
  {
   "cell_type": "code",
   "execution_count": 4,
   "id": "f496f24e",
   "metadata": {},
   "outputs": [],
   "source": [
    "myobj=gTTS(text,lang='en',slow=False)"
   ]
  },
  {
   "cell_type": "code",
   "execution_count": 5,
   "id": "9e2c28d9",
   "metadata": {},
   "outputs": [],
   "source": [
    "myobj.save(\"welcome.mp3\")"
   ]
  },
  {
   "cell_type": "code",
   "execution_count": 6,
   "id": "178113cf",
   "metadata": {},
   "outputs": [
    {
     "data": {
      "text/plain": [
       "1"
      ]
     },
     "execution_count": 6,
     "metadata": {},
     "output_type": "execute_result"
    }
   ],
   "source": [
    "file = \"welcome.mp3\"\n",
    "os.system(\"mpg123 \" + file)"
   ]
  },
  {
   "cell_type": "code",
   "execution_count": 49,
   "id": "ee228102",
   "metadata": {
    "scrolled": true
   },
   "outputs": [
    {
     "name": "stdout",
     "output_type": "stream",
     "text": [
      "Collecting SpeechRecognitionNote: you may need to restart the kernel to use updated packages.\n",
      "\n",
      "  Downloading SpeechRecognition-3.8.1-py2.py3-none-any.whl (32.8 MB)\n",
      "Installing collected packages: SpeechRecognition\n",
      "Successfully installed SpeechRecognition-3.8.1\n"
     ]
    }
   ],
   "source": [
    "#pip install SpeechRecognition"
   ]
  },
  {
   "cell_type": "markdown",
   "id": "38a6b836",
   "metadata": {},
   "source": [
    "Audio transcription works by a few steps:\n",
    "\n",
    "mp3 to wav conversion,\n",
    "loading the audio file,\n",
    "feeding the audio file to a speceh recongition system."
   ]
  },
  {
   "cell_type": "code",
   "execution_count": 7,
   "id": "c9dac0e7",
   "metadata": {},
   "outputs": [
    {
     "name": "stderr",
     "output_type": "stream",
     "text": [
      "C:\\Users\\mhmed\\anaconda3\\lib\\site-packages\\pydub\\utils.py:170: RuntimeWarning: Couldn't find ffmpeg or avconv - defaulting to ffmpeg, but may not work\n",
      "  warn(\"Couldn't find ffmpeg or avconv - defaulting to ffmpeg, but may not work\", RuntimeWarning)\n"
     ]
    },
    {
     "name": "stdout",
     "output_type": "stream",
     "text": [
      "Transcription: but\n"
     ]
    }
   ],
   "source": [
    "import speech_recognition as sr\n",
    "from os import path\n",
    "from pydub import AudioSegment\n",
    "\n",
    "\n",
    "# transcribe audio file                                                         \n",
    "AUDIO_FILE = \"Audio.wav\"\n",
    "\n",
    "# use the audio file as the audio source                                        \n",
    "r = sr.Recognizer()\n",
    "with sr.AudioFile(AUDIO_FILE) as source:\n",
    "        audio = r.record(source)  # read the entire audio file                  \n",
    "\n",
    "        print(\"Transcription: \" + r.recognize_google(audio))"
   ]
  },
  {
   "cell_type": "code",
   "execution_count": 8,
   "id": "3f2f7b69",
   "metadata": {},
   "outputs": [
    {
     "name": "stdout",
     "output_type": "stream",
     "text": [
      "Transcription: but\n"
     ]
    }
   ],
   "source": [
    "print(\"Transcription: \" + r.recognize_google(audio))"
   ]
  },
  {
   "cell_type": "code",
   "execution_count": null,
   "id": "b47495f4",
   "metadata": {},
   "outputs": [],
   "source": []
  }
 ],
 "metadata": {
  "kernelspec": {
   "display_name": "Python 3",
   "language": "python",
   "name": "python3"
  },
  "language_info": {
   "codemirror_mode": {
    "name": "ipython",
    "version": 3
   },
   "file_extension": ".py",
   "mimetype": "text/x-python",
   "name": "python",
   "nbconvert_exporter": "python",
   "pygments_lexer": "ipython3",
   "version": "3.8.8"
  }
 },
 "nbformat": 4,
 "nbformat_minor": 5
}
